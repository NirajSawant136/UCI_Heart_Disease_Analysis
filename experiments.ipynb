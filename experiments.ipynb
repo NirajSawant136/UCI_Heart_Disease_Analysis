{
  "cells": [
    {
      "cell_type": "code",
      "execution_count": 1,
      "metadata": {
        "id": "94gku8EXsJIN"
      },
      "outputs": [],
      "source": [
        "from sklearn.metrics import roc_curve, roc_auc_score\n",
        "import pandas as pd\n",
        "import sklearn\n",
        "import numpy as np\n",
        "import matplotlib.pyplot as plt\n",
        "from sklearn.metrics import RocCurveDisplay\n",
        "from sklearn import metrics\n",
        "import seaborn as sns\n",
        "from sklearn.metrics import precision_recall_fscore_support"
      ]
    },
    {
      "cell_type": "code",
      "execution_count": null,
      "metadata": {
        "id": "aHqyLA6Jvjuo"
      },
      "outputs": [],
      "source": [
        "X, y = dict(), dict()\n",
        "\n",
        "cleveland_df = pd.read_csv('../data/ProcessedClevelandData.csv')\n",
        "X['Cleveland'] = cleveland_df.iloc[:,:-1]\n",
        "y['Cleveland'] = cleveland_df.iloc[:,-1]\n",
        "\n",
        "hungary_df = pd.read_csv('../data/ProcessedHungaryData.csv')\n",
        "X['Hungary'] = hungary_df.iloc[:,:-1]\n",
        "y['Hungary'] = hungary_df.iloc[:,-1]\n",
        "\n",
        "swiss_df = pd.read_csv('../data/ProcessedSwissData.csv')\n",
        "X['Switzerland'] = swiss_df.iloc[:,:-1]\n",
        "y['Switzerland'] = swiss_df.iloc[:,-1]\n",
        "\n",
        "va_df = pd.read_csv('../data/ProcessedVAData.csv')\n",
        "X['Long Beach'] = va_df.iloc[:,:-1]\n",
        "y['Long Beach'] = va_df.iloc[:,-1]"
      ]
    },
    {
      "cell_type": "code",
      "execution_count": 3,
      "metadata": {
        "id": "YIsSMJXGvrUv"
      },
      "outputs": [],
      "source": [
        "from sklearn.model_selection import train_test_split\n",
        "\n",
        "X_train, X_test, y_train, y_test = dict(), dict(), dict(), dict()\n",
        "\n",
        "X_train['Cleveland'], X_test['Cleveland'], y_train['Cleveland'], y_test['Cleveland'] = train_test_split(X['Cleveland'], y['Cleveland'], test_size=0.20, random_state=42)\n",
        "\n",
        "X_train['Hungary'], X_test['Hungary'], y_train['Hungary'], y_test['Hungary'] = train_test_split(X['Hungary'], y['Hungary'], test_size=0.20, random_state=42)\n",
        "\n",
        "X_train['Switzerland'], X_test['Switzerland'], y_train['Switzerland'], y_test['Switzerland'] = train_test_split(X['Switzerland'], y['Switzerland'], test_size=0.20, random_state=42)\n",
        "\n",
        "X_train['Long Beach'], X_test['Long Beach'], y_train['Long Beach'], y_test['Long Beach'] = train_test_split(X['Long Beach'], y['Long Beach'], test_size=0.20, random_state=42)"
      ]
    },
    {
      "cell_type": "code",
      "execution_count": 23,
      "metadata": {
        "id": "XLgqEc91v2p3"
      },
      "outputs": [],
      "source": [
        "# direct function to train a model on one region and test on another\n",
        "\n",
        "def learn(region1, region2, model, show_plots=True):\n",
        "\n",
        "  models = ['RF', 'KNN', 'NB', 'XGB', 'SVM']\n",
        "\n",
        "  if model == 'RF':\n",
        "    from sklearn.ensemble import RandomForestClassifier\n",
        "    clf = RandomForestClassifier(n_estimators = 30,max_depth=2) \n",
        "\n",
        "  elif model == 'KNN':\n",
        "    from sklearn.neighbors import KNeighborsClassifier\n",
        "    clf = KNeighborsClassifier(n_neighbors = 9)\n",
        "  \n",
        "  elif model == 'NB':\n",
        "    from sklearn.naive_bayes import GaussianNB\n",
        "    clf = GaussianNB()\n",
        "\n",
        "  elif model == 'SVM':\n",
        "    from sklearn.svm import SVC\n",
        "    clf = SVC(kernel = 'linear',random_state = 0, probability=True)\n",
        "\n",
        "  elif model == 'XGB':\n",
        "    import xgboost as xgb\n",
        "    clf = xgb.XGBClassifier(objective=\"binary:logistic\", random_state=42)\n",
        "  \n",
        "  elif model not in models:\n",
        "    print('Please select a model from list. Refer readme.txt.')\n",
        "\n",
        "  clf.fit(X_train[region1], y_train[region1])\n",
        "  y_pred = clf.predict(X_test[region2])\n",
        "\n",
        "  pr = list(precision_recall_fscore_support(y_test[region2], y_pred, average='macro'))\n",
        "  pr[3] = clf.score(X_test[region2], y_test[region2])\n",
        "\n",
        "  if show_plots:\n",
        "    print('{} on {}->'.format(region1.upper(), region2.upper()))\n",
        "    print('Model -> {}'.format(model))\n",
        "\n",
        "    print('| Accuracy | Precision | Recall | Precision |')\n",
        "    print('| {:.4f} | {:.4f} | {:.4f} |  {:.4f} |'.format(pr[3], pr[0], pr[1], pr[2]))\n",
        "\n",
        "    plt.ylim(0, 1)\n",
        "    plt.bar(['Precision','Recall','F1-Score','Accuracy'],pr)\n",
        "    plt.show()\n",
        "\n",
        "    print('ROC Curve -> ')\n",
        "    roc = RocCurveDisplay.from_estimator(clf, X_test[region2], y_test[region2])\n",
        "    plt.show()\n",
        "\n",
        "    print('Confusion Matrix -> ')\n",
        "    confusion_matrix = metrics.confusion_matrix(y_test[region2], y_pred)\n",
        "    cm_display = metrics.ConfusionMatrixDisplay(confusion_matrix = confusion_matrix, display_labels = [0, 1])\n",
        "    cm_display.plot() \n",
        "    plt.show()\n",
        "\n",
        "  return pr[3], pr[0], pr[1]"
      ]
    },
    {
      "cell_type": "code",
      "execution_count": 24,
      "metadata": {
        "id": "sJj_3pjav2w_"
      },
      "outputs": [],
      "source": [
        "# function to plot a combined metric bar plot\n",
        "\n",
        "def bar_plot(acc, pr, re, X, region):\n",
        "  plt.figure(figsize=(10,6))\n",
        "  plt.ylim(0, 1)\n",
        "\n",
        "  X_axis = np.arange(len(X))\n",
        "\n",
        "  plt.bar(X_axis - 0.2, acc, 0.2, label = 'Accuracy',color='#e76f51')\n",
        "  plt.bar(X_axis , pr, 0.2, label = 'Precision',color='#2a9d8f')\n",
        "  plt.bar(X_axis + 0.2, re, 0.2, label = 'Recall',color='#184e77')\n",
        "\n",
        "  plt.xticks(X_axis, X)\n",
        "  plt.xlabel(\"Models\")\n",
        "  plt.title(\"Performance of model on {} data with other regions\".format(region))\n",
        "  plt.legend()\n",
        "  plt.show()"
      ]
    },
    {
      "cell_type": "code",
      "execution_count": 25,
      "metadata": {
        "id": "2W_R7QAQwYrp"
      },
      "outputs": [],
      "source": [
        "# function to plot combined auc curve\n",
        "\n",
        "def auc(r, model):\n",
        "  R = ['Cleveland', 'Hungary', 'Switzerland', 'Long Beach']\n",
        "  if model == 'RF':\n",
        "    from sklearn.ensemble import RandomForestClassifier\n",
        "    clf = RandomForestClassifier(n_estimators = 30,max_depth=2) \n",
        "\n",
        "  elif model == 'KNN':\n",
        "    from sklearn.neighbors import KNeighborsClassifier\n",
        "    clf = KNeighborsClassifier(n_neighbors = 9)\n",
        "  \n",
        "  elif model == 'NB':\n",
        "    from sklearn.naive_bayes import GaussianNB\n",
        "    clf = GaussianNB()\n",
        "\n",
        "  elif model == 'SVM':\n",
        "    from sklearn.svm import SVC\n",
        "    clf = SVC(kernel = 'linear',random_state = 0, probability=True)\n",
        "\n",
        "  elif model == 'XGB':\n",
        "    import xgboost as xgb\n",
        "    clf = xgb.XGBClassifier(objective=\"binary:logistic\", random_state=42)\n",
        "  \n",
        "  else:\n",
        "    return\n",
        "\n",
        "  clf.fit(X_train[r], y_train[r])\n",
        "  plt.figure(figsize=(10,6))\n",
        "  for z in R:\n",
        "    y_pred = clf.predict_proba(X_test[z])[:, 1]\n",
        "    fpr, tpr, thresh = metrics.roc_curve(y_test[z], y_pred)\n",
        "    auc = metrics.roc_auc_score(y_test[z], y_pred)\n",
        "\n",
        "    plt.plot(fpr, tpr, label='{}, AUC = {:.3f}'.format(z,auc))\n",
        "\n",
        "  plt.legend()\n",
        "  plt.show()"
      ]
    },
    {
      "cell_type": "code",
      "execution_count": 19,
      "metadata": {
        "id": "1wbZhI-xwhxh"
      },
      "outputs": [],
      "source": [
        "def test_on_rest(region, model):\n",
        "  acc, pr, re = [0 for x in range(4)], [0 for x in range(4)], [0 for x in range(4)]\n",
        "  acc[0], pr[0], re[0] = learn(region,'Cleveland',model, False)\n",
        "  acc[1], pr[1], re[1] = learn(region,'Hungary',model, False)\n",
        "  acc[2], pr[2], re[2] = learn(region,'Switzerland',model, False)\n",
        "  acc[3], pr[3], re[3] = learn(region,'Long Beach',model, False)\n",
        "\n",
        "  X = ['Cleveland', 'Hungary', 'Switzerland', 'Long Beach']\n",
        "\n",
        "  bar_plot(acc, pr, re, X, region)\n",
        "  auc(region, model)"
      ]
    },
    {
      "cell_type": "code",
      "execution_count": null,
      "metadata": {},
      "outputs": [],
      "source": [
        "learn('Cleveland','Hungary','RF')"
      ]
    },
    {
      "cell_type": "code",
      "execution_count": 20,
      "metadata": {
        "colab": {
          "base_uri": "https://localhost:8080/",
          "height": 761
        },
        "id": "o6u0aRJWxDOz",
        "outputId": "68f92976-b129-4d63-f230-920d820f9726"
      },
      "outputs": [
        {
          "data": {
            "image/png": "[encoded data removed]",
            "text/plain": [
              "<Figure size 720x432 with 1 Axes>"
            ]
          },
          "metadata": {
            "needs_background": "light"
          },
          "output_type": "display_data"
        },
        {
          "data": {
            "image/png": "[encoded data removed]",
            "text/plain": [
              "<Figure size 720x432 with 1 Axes>"
            ]
          },
          "metadata": {
            "needs_background": "light"
          },
          "output_type": "display_data"
        }
      ],
      "source": [
        "test_on_rest('Cleveland', 'RF')"
      ]
    }
  ],
  "metadata": {
    "colab": {
      "provenance": []
    },
    "kernelspec": {
      "display_name": "Python 3",
      "language": "python",
      "name": "python3"
    },
    "language_info": {
      "name": "python",
      "version": "3.10.4 (tags/v3.10.4:9d38120, Mar 23 2022, 23:13:41) [MSC v.1929 64 bit (AMD64)]"
    },
    "vscode": {
      "interpreter": {
        "hash": "a42ccb73e7d9bfdf27e036f1d2b8b681e55fc0743cc5586bc2474d4a60f4b886"
      }
    }
  },
  "nbformat": 4,
  "nbformat_minor": 0
}
